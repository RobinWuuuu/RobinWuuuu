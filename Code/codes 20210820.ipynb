{
 "cells": [
  {
   "cell_type": "code",
   "execution_count": null,
   "metadata": {
    "id": "kg5t0Cg8_Hlu"
   },
   "outputs": [],
   "source": [
    "import requests\n",
    "import json\n",
    "import pandas as pd\n",
    "import time"
   ]
  },
  {
   "cell_type": "code",
   "execution_count": null,
   "metadata": {
    "colab": {
     "base_uri": "https://localhost:8080/",
     "height": 231
    },
    "id": "s20YqJpI_KLV",
    "outputId": "661b9eb6-ec72-4f1c-ee0f-2e7289d7a63b"
   },
   "outputs": [
    {
     "ename": "FileNotFoundError",
     "evalue": "ignored",
     "output_type": "error",
     "traceback": [
      "\u001b[0;31m---------------------------------------------------------------------------\u001b[0m",
      "\u001b[0;31mFileNotFoundError\u001b[0m                         Traceback (most recent call last)",
      "\u001b[0;32m<ipython-input-6-dc6ac37d0b31>\u001b[0m in \u001b[0;36m<module>\u001b[0;34m()\u001b[0m\n\u001b[1;32m     25\u001b[0m     \u001b[0;32mif\u001b[0m \u001b[0mresponse\u001b[0m\u001b[0;34m.\u001b[0m\u001b[0mstatus_code\u001b[0m \u001b[0;34m==\u001b[0m \u001b[0;36m200\u001b[0m \u001b[0;32mand\u001b[0m \u001b[0mresponse\u001b[0m\u001b[0;34m.\u001b[0m\u001b[0mjson\u001b[0m\u001b[0;34m(\u001b[0m\u001b[0;34m)\u001b[0m\u001b[0;34m[\u001b[0m\u001b[0;34m'status'\u001b[0m\u001b[0;34m]\u001b[0m \u001b[0;34m==\u001b[0m \u001b[0;36m200\u001b[0m\u001b[0;34m:\u001b[0m\u001b[0;34m\u001b[0m\u001b[0;34m\u001b[0m\u001b[0m\n\u001b[1;32m     26\u001b[0m         \u001b[0mdf\u001b[0m \u001b[0;34m=\u001b[0m \u001b[0mpd\u001b[0m\u001b[0;34m.\u001b[0m\u001b[0mjson_normalize\u001b[0m\u001b[0;34m(\u001b[0m\u001b[0mresponse\u001b[0m\u001b[0;34m.\u001b[0m\u001b[0mjson\u001b[0m\u001b[0;34m(\u001b[0m\u001b[0;34m)\u001b[0m\u001b[0;34m[\u001b[0m\u001b[0;34m'payload'\u001b[0m\u001b[0;34m]\u001b[0m\u001b[0;34m[\u001b[0m\u001b[0;34m'records'\u001b[0m\u001b[0;34m]\u001b[0m\u001b[0;34m)\u001b[0m\u001b[0;34m\u001b[0m\u001b[0;34m\u001b[0m\u001b[0m\n\u001b[0;32m---> 27\u001b[0;31m         \u001b[0;32mwith\u001b[0m \u001b[0mopen\u001b[0m\u001b[0;34m(\u001b[0m\u001b[0;34m'./Data/token_balances.csv'\u001b[0m\u001b[0;34m,\u001b[0m \u001b[0;34m'a'\u001b[0m\u001b[0;34m)\u001b[0m \u001b[0;32mas\u001b[0m \u001b[0mf\u001b[0m\u001b[0;34m:\u001b[0m\u001b[0;34m\u001b[0m\u001b[0;34m\u001b[0m\u001b[0m\n\u001b[0m\u001b[1;32m     28\u001b[0m             \u001b[0mdf\u001b[0m\u001b[0;34m.\u001b[0m\u001b[0mto_csv\u001b[0m\u001b[0;34m(\u001b[0m\u001b[0mf\u001b[0m\u001b[0;34m,\u001b[0m \u001b[0mindex\u001b[0m\u001b[0;34m=\u001b[0m\u001b[0;32mFalse\u001b[0m\u001b[0;34m,\u001b[0m \u001b[0mheader\u001b[0m\u001b[0;34m=\u001b[0m\u001b[0mf\u001b[0m\u001b[0;34m.\u001b[0m\u001b[0mtell\u001b[0m\u001b[0;34m(\u001b[0m\u001b[0;34m)\u001b[0m\u001b[0;34m==\u001b[0m\u001b[0;36m0\u001b[0m\u001b[0;34m)\u001b[0m\u001b[0;34m\u001b[0m\u001b[0;34m\u001b[0m\u001b[0m\n\u001b[1;32m     29\u001b[0m         \u001b[0;32mif\u001b[0m \u001b[0mlen\u001b[0m\u001b[0;34m(\u001b[0m\u001b[0mresponse\u001b[0m\u001b[0;34m.\u001b[0m\u001b[0mjson\u001b[0m\u001b[0;34m(\u001b[0m\u001b[0;34m)\u001b[0m\u001b[0;34m[\u001b[0m\u001b[0;34m'payload'\u001b[0m\u001b[0;34m]\u001b[0m\u001b[0;34m[\u001b[0m\u001b[0;34m'records'\u001b[0m\u001b[0;34m]\u001b[0m\u001b[0;34m)\u001b[0m \u001b[0;34m==\u001b[0m \u001b[0;36m1000\u001b[0m\u001b[0;34m:\u001b[0m\u001b[0;34m\u001b[0m\u001b[0;34m\u001b[0m\u001b[0m\n",
      "\u001b[0;31mFileNotFoundError\u001b[0m: [Errno 2] No such file or directory: './Data/token_balances.csv'"
     ]
    }
   ],
   "source": [
    "# codes for qiushuang: token-balances\n",
    "\n",
    "# the \"address\" is changeable according to mapping\n",
    "address = \"0x7a9E457991352F8feFB90AB1ce7488DF7cDa6ed5\"\n",
    "\n",
    "# refers to https://docs.amberdata.io/reference#get-token-balances\n",
    "url = \"https://web3api.io/api/v2/addresses/\" + address + \"/token-balances/historical\"\n",
    "\n",
    "headers = {\n",
    "    \"Accept\": \"application/json\",\n",
    "    \"x-amberdata-blockchain-id\": \"ethereum-mainnet\",\n",
    "    \"x-api-key\": \"UAK2c264f10f6d17e9ba6ed2577d15c5dc1\"\n",
    "}\n",
    "\n",
    "# here, the time format should be milliseconds\n",
    "current_time = int(time.time() * 1000)\n",
    "page = 0\n",
    "while True:\n",
    "    querystring = {\"page\": page,\n",
    "                   \"size\": \"1000\",\n",
    "                   \"startDate\": current_time - 60000,\n",
    "                   \"endDate\": current_time,\n",
    "                   \"tokenAddress\": \"0x054f76beed60ab6dbeb23502178c52d6c5debe40\"}\n",
    "    response = requests.request(\"GET\", url, headers=headers, params=querystring)\n",
    "    if response.status_code == 200 and response.json()['status'] == 200:\n",
    "        df = pd.json_normalize(response.json()['payload']['records'])\n",
    "        with open('./Data/token_balances.csv', 'a') as f:\n",
    "            df.to_csv(f, index=False, header=f.tell()==0)\n",
    "        if len(response.json()['payload']['records']) == 1000:\n",
    "            page += 1\n",
    "        else:\n",
    "            break"
   ]
  },
  {
   "cell_type": "code",
   "execution_count": null,
   "metadata": {
    "id": "GOpq62q9_KaH"
   },
   "outputs": [],
   "source": [
    "# codes for yinuo (1): token-transfers\n",
    "\n",
    "# refers to https://docs.amberdata.io/reference#transaction-token-transfers\n",
    "url = \"https://web3api.io/api/v2/addresses/0x7a9E457991352F8feFB90AB1ce7488DF7cDa6ed5/token-transfers\"\n",
    "\n",
    "headers = {\n",
    "    \"Accept\": \"application/json\",\n",
    "    \"x-amberdata-blockchain-id\": \"ethereum-mainnet\",\n",
    "    \"x-api-key\": \"UAK2c264f10f6d17e9ba6ed2577d15c5dc1\"\n",
    "}\n",
    "\n",
    "# here, the time format should be milliseconds\n",
    "current_time = int(time.time() * 1000)\n",
    "page = 0\n",
    "while True:\n",
    "    querystring = {\"page\": page,\n",
    "                   \"size\": \"1000\",\n",
    "                   \"startDate\": current_time - 60000,\n",
    "                   \"endDate\": current_time,\n",
    "                   \"format\": \"csv\"}\n",
    "    response = requests.request(\"GET\", url, headers=headers, params=querystring)\n",
    "    if response.status_code == 200:\n",
    "        if response.content != b'':\n",
    "            with open('./Data/token_transfers.csv','ab') as f:\n",
    "                f.write(response.content)\n",
    "            page += 1\n",
    "        else:\n",
    "            break"
   ]
  },
  {
   "cell_type": "code",
   "execution_count": null,
   "metadata": {
    "colab": {
     "base_uri": "https://localhost:8080/",
     "height": 214
    },
    "id": "Xgb3CJIHYpQQ",
    "outputId": "d8ff7a12-afdc-4b1b-de86-cdf9cf6ea7a2"
   },
   "outputs": [
    {
     "ename": "FileNotFoundError",
     "evalue": "ignored",
     "output_type": "error",
     "traceback": [
      "\u001b[0;31m---------------------------------------------------------------------------\u001b[0m",
      "\u001b[0;31mFileNotFoundError\u001b[0m                         Traceback (most recent call last)",
      "\u001b[0;32m<ipython-input-4-eeeb7d9a63f8>\u001b[0m in \u001b[0;36m<module>\u001b[0;34m()\u001b[0m\n\u001b[1;32m     55\u001b[0m \u001b[0;34m\u001b[0m\u001b[0m\n\u001b[1;32m     56\u001b[0m \u001b[0;31m# save the file\u001b[0m\u001b[0;34m\u001b[0m\u001b[0;34m\u001b[0m\u001b[0;34m\u001b[0m\u001b[0m\n\u001b[0;32m---> 57\u001b[0;31m \u001b[0;32mwith\u001b[0m \u001b[0mopen\u001b[0m\u001b[0;34m(\u001b[0m\u001b[0;34m'./Data/methods_type.csv'\u001b[0m\u001b[0;34m,\u001b[0m \u001b[0;34m'a'\u001b[0m\u001b[0;34m)\u001b[0m \u001b[0;32mas\u001b[0m \u001b[0mf\u001b[0m\u001b[0;34m:\u001b[0m\u001b[0;34m\u001b[0m\u001b[0;34m\u001b[0m\u001b[0m\n\u001b[0m\u001b[1;32m     58\u001b[0m     \u001b[0mnew_df\u001b[0m\u001b[0;34m.\u001b[0m\u001b[0mto_csv\u001b[0m\u001b[0;34m(\u001b[0m\u001b[0mf\u001b[0m\u001b[0;34m,\u001b[0m \u001b[0mindex\u001b[0m\u001b[0;34m=\u001b[0m\u001b[0;32mFalse\u001b[0m\u001b[0;34m,\u001b[0m \u001b[0mheader\u001b[0m\u001b[0;34m=\u001b[0m\u001b[0mf\u001b[0m\u001b[0;34m.\u001b[0m\u001b[0mtell\u001b[0m\u001b[0;34m(\u001b[0m\u001b[0;34m)\u001b[0m\u001b[0;34m==\u001b[0m\u001b[0;36m0\u001b[0m\u001b[0;34m)\u001b[0m\u001b[0;34m\u001b[0m\u001b[0;34m\u001b[0m\u001b[0m\n",
      "\u001b[0;31mFileNotFoundError\u001b[0m: [Errno 2] No such file or directory: './Data/methods_type.csv'"
     ]
    }
   ],
   "source": [
    "#############################################################################################################\n",
    "\n",
    "# codes (2) for yinuo (for real-time update): methods type\n",
    "\n",
    "# refers to https://docs.amberdata.io/reference#get-all-transactions\n",
    "url = \"https://web3api.io/api/v2/transactions\"\n",
    "\n",
    "headers = {\n",
    "    \"Accept\": \"application/json\",\n",
    "    \"x-amberdata-blockchain-id\": \"ethereum-mainnet\",\n",
    "    \"x-api-key\": \"UAK2c264f10f6d17e9ba6ed2577d15c5dc1\"\n",
    "}\n",
    "\n",
    "# here, the time format should be milliseconds\n",
    "current_time = int(time.time() * 1000)\n",
    "page = 0\n",
    "df = pd.DataFrame()\n",
    "while True:\n",
    "    querystring = {\"startDate\": current_time - 60000,\n",
    "                    \"endDate\": current_time,\n",
    "                    \"size\": \"1000\",\n",
    "                    \"page\": page}\n",
    "    response = requests.request(\"GET\", url, headers=headers, params=querystring)\n",
    "    if response.status_code == 200 and response.json()['status'] == 200:\n",
    "        df = df.append(pd.json_normalize(response.json()['payload']['records']))\n",
    "        if len(response.json()['payload']['records']) == 1000:\n",
    "            page += 1\n",
    "        else:\n",
    "            break\n",
    "\n",
    "methods_dict = {'0x4b8a3529': 'Borrow',\n",
    "                '0x47e7ef24': 'Deposit',\n",
    "                '0xf3fef3a3': 'Withdraw',\n",
    "                '0xfa09e630': 'Withdraw', # actual for Withdrawal\n",
    "                '0x22867d78': 'Repay'}\n",
    "\n",
    "hash_list = []\n",
    "methods = []\n",
    "\n",
    "for index, row in df.iterrows():\n",
    "    # drop the data not belongs to Definer\n",
    "    if row['from'] is None or row['to'] is None:\n",
    "        continue\n",
    "    if row['from'][0]['address'] != '0x7a9E457991352F8feFB90AB1ce7488DF7cDa6ed5' and row['to'][0]['address'] != '0x7a9E457991352F8feFB90AB1ce7488DF7cDa6ed5':\n",
    "        continue\n",
    "    method_code = row['input'][:10]\n",
    "    if method_code in methods_dict:\n",
    "        hash_list.append(row['blockHash'])\n",
    "        methods.append(methods_dict[method_code])\n",
    "    break\n",
    "    \n",
    "new_df = pd.DataFrame()\n",
    "new_df = new_df.assign(hash = hash_list)\n",
    "new_df = new_df.assign(Methods = methods)\n",
    "\n",
    "# save the file\n",
    "with open('./Data/methods_type.csv', 'a') as f:\n",
    "    new_df.to_csv(f, index=False, header=f.tell()==0)"
   ]
  }
 ],
 "metadata": {
  "colab": {
   "collapsed_sections": [],
   "name": "codes.ipynb",
   "provenance": []
  },
  "kernelspec": {
   "display_name": "Python 3",
   "language": "python",
   "name": "python3"
  },
  "language_info": {
   "codemirror_mode": {
    "name": "ipython",
    "version": 3
   },
   "file_extension": ".py",
   "mimetype": "text/x-python",
   "name": "python",
   "nbconvert_exporter": "python",
   "pygments_lexer": "ipython3",
   "version": "3.7.4"
  }
 },
 "nbformat": 4,
 "nbformat_minor": 1
}
